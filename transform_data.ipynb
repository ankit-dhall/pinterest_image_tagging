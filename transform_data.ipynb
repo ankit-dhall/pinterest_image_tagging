{
 "cells": [
  {
   "cell_type": "code",
   "execution_count": 1,
   "metadata": {},
   "outputs": [
    {
     "name": "stderr",
     "output_type": "stream",
     "text": [
      "Using TensorFlow backend.\n"
     ]
    }
   ],
   "source": [
    "import os\n",
    "import numpy as np\n",
    "import keras\n",
    "from keras.models import load_model\n",
    "from keras.applications.mobilenet import preprocess_input\n",
    "from keras.preprocessing import image\n",
    "import pandas as pd\n",
    "import cv2\n",
    "from keras.utils import to_categorical\n",
    "from sklearn.preprocessing import LabelEncoder"
   ]
  },
  {
   "cell_type": "code",
   "execution_count": 2,
   "metadata": {},
   "outputs": [
    {
     "name": "stdout",
     "output_type": "stream",
     "text": [
      "0\n",
      "100\n",
      "200\n",
      "300\n",
      "400\n",
      "500\n",
      "600\n",
      "700\n",
      "800\n",
      "900\n",
      "1000\n",
      "1100\n",
      "1200\n",
      "1300\n",
      "1400\n",
      "1500\n",
      "1600\n",
      "1700\n",
      "1800\n",
      "1900\n",
      "2000\n",
      "2100\n",
      "2200\n",
      "2300\n",
      "2400\n",
      "2500\n",
      "2600\n",
      "2700\n",
      "2800\n",
      "2900\n",
      "3000\n",
      "3100\n",
      "3200\n",
      "3300\n",
      "3400\n",
      "3500\n",
      "3600\n",
      "3700\n",
      "3800\n",
      "3900\n",
      "4000\n",
      "4100\n",
      "4200\n",
      "4300\n",
      "4400\n",
      "4500\n",
      "4600\n",
      "4700\n",
      "4800\n",
      "4900\n",
      "5000\n",
      "5100\n",
      "5200\n",
      "5300\n",
      "5400\n",
      "5500\n",
      "5600\n",
      "5700\n",
      "5800\n",
      "5900\n",
      "6000\n",
      "6100\n",
      "6200\n",
      "6300\n",
      "6400\n",
      "6500\n",
      "6600\n"
     ]
    }
   ],
   "source": [
    "X_train, y_train = [], []\n",
    "count = 0\n",
    "for i in os.listdir('./dataset/training_set'):\n",
    "    true_class = i\n",
    "    for j in os.listdir('./dataset/training_set/' + i):\n",
    "        if count%100 == 0:\n",
    "            print(count)\n",
    "        img = image.load_img('./dataset/training_set/' + i + '/' + j, \n",
    "                                    target_size = (56, 56))\n",
    "        img = image.img_to_array(img)\n",
    "        X_train.append(img)\n",
    "        y_train.append(i)\n",
    "        count += 1"
   ]
  },
  {
   "cell_type": "code",
   "execution_count": 3,
   "metadata": {},
   "outputs": [],
   "source": [
    "X_train = np.array(X_train)"
   ]
  },
  {
   "cell_type": "code",
   "execution_count": 6,
   "metadata": {},
   "outputs": [],
   "source": [
    "np.save(\"./X_train.npy\", X_train)"
   ]
  },
  {
   "cell_type": "code",
   "execution_count": 7,
   "metadata": {},
   "outputs": [
    {
     "data": {
      "text/plain": [
       "(6696, 56, 56, 3)"
      ]
     },
     "execution_count": 7,
     "metadata": {},
     "output_type": "execute_result"
    }
   ],
   "source": [
    "X_train.shape"
   ]
  },
  {
   "cell_type": "code",
   "execution_count": 8,
   "metadata": {},
   "outputs": [],
   "source": [
    "y_train = np.array(y_train)"
   ]
  },
  {
   "cell_type": "code",
   "execution_count": 9,
   "metadata": {},
   "outputs": [],
   "source": [
    "np.save(\"./y_train.npy\", y_train)"
   ]
  },
  {
   "cell_type": "code",
   "execution_count": 10,
   "metadata": {},
   "outputs": [
    {
     "data": {
      "text/plain": [
       "(6696,)"
      ]
     },
     "execution_count": 10,
     "metadata": {},
     "output_type": "execute_result"
    }
   ],
   "source": [
    "y_train.shape"
   ]
  },
  {
   "cell_type": "code",
   "execution_count": 11,
   "metadata": {},
   "outputs": [],
   "source": [
    "X_test, y_test = [], []\n",
    "for i in os.listdir('./dataset/test_set'):\n",
    "    true_class = i\n",
    "    for j in os.listdir('./dataset/test_set/' + i):\n",
    "        img = image.load_img('./dataset/test_set/' + i + '/' + j, \n",
    "                                    target_size = (56, 56))\n",
    "        img = image.img_to_array(img)\n",
    "        X_test.append(img)\n",
    "        y_test.append(i)"
   ]
  },
  {
   "cell_type": "code",
   "execution_count": 12,
   "metadata": {},
   "outputs": [],
   "source": [
    "X_test = np.array(X_test)"
   ]
  },
  {
   "cell_type": "code",
   "execution_count": 13,
   "metadata": {},
   "outputs": [],
   "source": [
    "np.save(\"X_test.npy\", X_test)"
   ]
  },
  {
   "cell_type": "code",
   "execution_count": 14,
   "metadata": {},
   "outputs": [
    {
     "data": {
      "text/plain": [
       "(800, 56, 56, 3)"
      ]
     },
     "execution_count": 14,
     "metadata": {},
     "output_type": "execute_result"
    }
   ],
   "source": [
    "X_test.shape"
   ]
  },
  {
   "cell_type": "code",
   "execution_count": 15,
   "metadata": {},
   "outputs": [],
   "source": [
    "y_test = np.array(y_test)"
   ]
  },
  {
   "cell_type": "code",
   "execution_count": 16,
   "metadata": {},
   "outputs": [
    {
     "data": {
      "text/plain": [
       "(800,)"
      ]
     },
     "execution_count": 16,
     "metadata": {},
     "output_type": "execute_result"
    }
   ],
   "source": [
    "y_test.shape"
   ]
  },
  {
   "cell_type": "code",
   "execution_count": 17,
   "metadata": {},
   "outputs": [],
   "source": [
    "X_train = X_train.reshape(X_train.shape[0], X_train.shape[1]*X_train.shape[2]*3)\n",
    "X_test = X_test.reshape(X_test.shape[0], X_test.shape[1]*X_test.shape[2]*3)"
   ]
  },
  {
   "cell_type": "code",
   "execution_count": 18,
   "metadata": {},
   "outputs": [],
   "source": [
    "X_train = X_train.astype('float32') \n",
    "X_test  = X_test.astype('float32')\n",
    "X_train /= 255\n",
    "X_test  /= 255"
   ]
  },
  {
   "cell_type": "code",
   "execution_count": 19,
   "metadata": {},
   "outputs": [],
   "source": [
    "from keras.models import Sequential\n",
    "from keras.layers import Dense"
   ]
  },
  {
   "cell_type": "code",
   "execution_count": 20,
   "metadata": {},
   "outputs": [],
   "source": [
    "le = LabelEncoder()\n",
    "le.fit(y_train)\n",
    "y_train = le.transform(y_train)\n",
    "y_test = le.transform(y_test)"
   ]
  },
  {
   "cell_type": "code",
   "execution_count": 21,
   "metadata": {},
   "outputs": [],
   "source": [
    "y_train = to_categorical(y_train)\n",
    "y_test = to_categorical(y_test)"
   ]
  },
  {
   "cell_type": "code",
   "execution_count": 22,
   "metadata": {},
   "outputs": [],
   "source": [
    "np.save(\"y_train.npy\", y_train)"
   ]
  },
  {
   "cell_type": "code",
   "execution_count": null,
   "metadata": {},
   "outputs": [],
   "source": [
    "np.save(\"y_test.npy\", y_test)"
   ]
  },
  {
   "cell_type": "code",
   "execution_count": 17,
   "metadata": {},
   "outputs": [
    {
     "name": "stdout",
     "output_type": "stream",
     "text": [
      "Model: \"sequential_1\"\n",
      "_________________________________________________________________\n",
      "Layer (type)                 Output Shape              Param #   \n",
      "=================================================================\n",
      "dense_1 (Dense)              (None, 3136)              29506624  \n",
      "_________________________________________________________________\n",
      "dense_2 (Dense)              (None, 1024)              3212288   \n",
      "_________________________________________________________________\n",
      "dense_3 (Dense)              (None, 512)               524800    \n",
      "_________________________________________________________________\n",
      "dense_4 (Dense)              (None, 128)               65664     \n",
      "_________________________________________________________________\n",
      "dense_5 (Dense)              (None, 8)                 1032      \n",
      "=================================================================\n",
      "Total params: 33,310,408\n",
      "Trainable params: 33,310,408\n",
      "Non-trainable params: 0\n",
      "_________________________________________________________________\n"
     ]
    }
   ],
   "source": [
    "model = Sequential()\n",
    "model.add(Dense(3136, input_dim = 9408, activation = 'relu'))\n",
    "model.add(Dense(1024, activation = 'relu'))\n",
    "model.add(Dense(512, activation = 'relu'))\n",
    "model.add(Dense(128, activation = 'relu'))\n",
    "model.add(Dense(8, activation = 'softmax'))\n",
    "\n",
    "model.summary()"
   ]
  },
  {
   "cell_type": "code",
   "execution_count": 18,
   "metadata": {},
   "outputs": [],
   "source": [
    "model.compile(loss = \"categorical_crossentropy\", optimizer = 'adam', metrics = [\"accuracy\"])"
   ]
  },
  {
   "cell_type": "code",
   "execution_count": 19,
   "metadata": {},
   "outputs": [
    {
     "data": {
      "text/plain": [
       "(6696, 8)"
      ]
     },
     "execution_count": 19,
     "metadata": {},
     "output_type": "execute_result"
    }
   ],
   "source": [
    "y_train.shape"
   ]
  },
  {
   "cell_type": "code",
   "execution_count": 20,
   "metadata": {},
   "outputs": [
    {
     "name": "stdout",
     "output_type": "stream",
     "text": [
      "Train on 6696 samples, validate on 800 samples\n",
      "Epoch 1/15\n",
      "6696/6696 [==============================] - 148s 22ms/step - loss: 2.2377 - accuracy: 0.2255 - val_loss: 1.7786 - val_accuracy: 0.2950\n",
      "Epoch 2/15\n",
      "6696/6696 [==============================] - 148s 22ms/step - loss: 1.7937 - accuracy: 0.3147 - val_loss: 1.6565 - val_accuracy: 0.3675\n",
      "Epoch 3/15\n",
      "6696/6696 [==============================] - 148s 22ms/step - loss: 1.7150 - accuracy: 0.3548 - val_loss: 1.6755 - val_accuracy: 0.3650\n",
      "Epoch 4/15\n",
      "6696/6696 [==============================] - 148s 22ms/step - loss: 1.6370 - accuracy: 0.3881 - val_loss: 1.5919 - val_accuracy: 0.3900\n",
      "Epoch 5/15\n",
      "6696/6696 [==============================] - 148s 22ms/step - loss: 1.5889 - accuracy: 0.4020 - val_loss: 1.5604 - val_accuracy: 0.3950\n",
      "Epoch 6/15\n",
      "6696/6696 [==============================] - 148s 22ms/step - loss: 1.5648 - accuracy: 0.4156 - val_loss: 1.5402 - val_accuracy: 0.4100\n",
      "Epoch 7/15\n",
      "6696/6696 [==============================] - 148s 22ms/step - loss: 1.5232 - accuracy: 0.4347 - val_loss: 1.6322 - val_accuracy: 0.3688\n",
      "Epoch 8/15\n",
      "6696/6696 [==============================] - 148s 22ms/step - loss: 1.4830 - accuracy: 0.4489 - val_loss: 1.5229 - val_accuracy: 0.4200\n",
      "Epoch 9/15\n",
      "6696/6696 [==============================] - 148s 22ms/step - loss: 1.4609 - accuracy: 0.4637 - val_loss: 1.4872 - val_accuracy: 0.4512\n",
      "Epoch 10/15\n",
      "6696/6696 [==============================] - 148s 22ms/step - loss: 1.4253 - accuracy: 0.4755 - val_loss: 1.4730 - val_accuracy: 0.4387\n",
      "Epoch 11/15\n",
      "6696/6696 [==============================] - 148s 22ms/step - loss: 1.4088 - accuracy: 0.4833 - val_loss: 1.6730 - val_accuracy: 0.4050\n",
      "Epoch 12/15\n",
      "6696/6696 [==============================] - 148s 22ms/step - loss: 1.3786 - accuracy: 0.5036 - val_loss: 1.4840 - val_accuracy: 0.4450\n",
      "Epoch 13/15\n",
      "6696/6696 [==============================] - 148s 22ms/step - loss: 1.3394 - accuracy: 0.5169 - val_loss: 1.6424 - val_accuracy: 0.3963\n",
      "Epoch 14/15\n",
      "6696/6696 [==============================] - 148s 22ms/step - loss: 1.2961 - accuracy: 0.5278 - val_loss: 1.5877 - val_accuracy: 0.4425\n",
      "Epoch 15/15\n",
      "6696/6696 [==============================] - 148s 22ms/step - loss: 1.2664 - accuracy: 0.5357 - val_loss: 1.5561 - val_accuracy: 0.4100\n"
     ]
    }
   ],
   "source": [
    "hist = model.fit(X_train, y_train, validation_data = (X_test, y_test), epochs = 15, batch_size = 16)"
   ]
  },
  {
   "cell_type": "code",
   "execution_count": null,
   "metadata": {},
   "outputs": [],
   "source": []
  }
 ],
 "metadata": {
  "kernelspec": {
   "display_name": "Python 3",
   "language": "python",
   "name": "python3"
  },
  "language_info": {
   "codemirror_mode": {
    "name": "ipython",
    "version": 3
   },
   "file_extension": ".py",
   "mimetype": "text/x-python",
   "name": "python",
   "nbconvert_exporter": "python",
   "pygments_lexer": "ipython3",
   "version": "3.7.6"
  }
 },
 "nbformat": 4,
 "nbformat_minor": 4
}
