{
 "cells": [
  {
   "cell_type": "code",
   "execution_count": 21,
   "metadata": {},
   "outputs": [],
   "source": [
    "import os\n",
    "import numpy as np\n",
    "import pandas as pd\n",
    "import keras\n",
    "import tensorflow as tf\n",
    "import matplotlib.pyplot as plt\n",
    "from keras.layers import Dense, GlobalAveragePooling2D, MaxPooling2D, Dropout\n",
    "from keras.preprocessing import image\n",
    "from keras.preprocessing.image import ImageDataGenerator\n",
    "from keras.models import Model\n",
    "from keras.optimizers import Adam\n",
    "from keras.callbacks import ModelCheckpoint\n",
    "from keras.utils import to_categorical\n",
    "from sklearn.preprocessing import LabelEncoder\n",
    "from sklearn.model_selection import StratifiedKFold\n",
    "from sklearn.metrics import confusion_matrix\n",
    "import plotly.figure_factory as ff\n",
    "import PIL"
   ]
  },
  {
   "cell_type": "code",
   "execution_count": 2,
   "metadata": {},
   "outputs": [],
   "source": [
    "os.environ[\"CUDA_VISIBLE_DEVICES\"] = \"0\""
   ]
  },
  {
   "cell_type": "code",
   "execution_count": 3,
   "metadata": {},
   "outputs": [
    {
     "data": {
      "text/plain": [
       "[PhysicalDevice(name='/physical_device:GPU:0', device_type='GPU')]"
      ]
     },
     "execution_count": 3,
     "metadata": {},
     "output_type": "execute_result"
    }
   ],
   "source": [
    "tf.config.list_physical_devices('GPU')"
   ]
  },
  {
   "cell_type": "code",
   "execution_count": 4,
   "metadata": {},
   "outputs": [],
   "source": [
    "from keras.applications.mobilenet import MobileNet\n",
    "from keras.applications.mobilenet import preprocess_input"
   ]
  },
  {
   "cell_type": "markdown",
   "metadata": {},
   "source": [
    "### Loading & Transforming our Training Data to a Numpy Array"
   ]
  },
  {
   "cell_type": "code",
   "execution_count": 5,
   "metadata": {},
   "outputs": [],
   "source": [
    ".X, y = [], []\n",
    "for i in os.listdir('./dataset/training_set'):\n",
    "    true_class = i\n",
    "    for j in os.listdir('./dataset/training_set/' + i):\n",
    "        img = image.load_img('./dataset/training_set/' + i + '/' + j, \n",
    "                                    target_size = (160, 160))\n",
    "        img = image.img_to_array(img)\n",
    "        img = preprocess_input(img)\n",
    "        X.append(img)\n",
    "        y.append(i)"
   ]
  },
  {
   "cell_type": "markdown",
   "metadata": {},
   "source": [
    "### Loading & Transforming our Test Data to a Numpy Array"
   ]
  },
  {
   "cell_type": "code",
   "execution_count": 6,
   "metadata": {},
   "outputs": [],
   "source": [
    "for i in os.listdir('./dataset/test_set'):\n",
    "    true_class = i\n",
    "    for j in os.listdir('./dataset/test_set/' + i):\n",
    "        img = image.load_img('./dataset/test_set/' + i + '/' + j, \n",
    "                                    target_size = (160, 160))\n",
    "        img = image.img_to_array(img)\n",
    "        img = preprocess_input(img)\n",
    "        X.append(img)\n",
    "        y.append(i)"
   ]
  },
  {
   "cell_type": "code",
   "execution_count": 7,
   "metadata": {},
   "outputs": [],
   "source": [
    "X = np.array(X)\n",
    "y = np.array(y)"
   ]
  },
  {
   "cell_type": "code",
   "execution_count": 8,
   "metadata": {},
   "outputs": [
    {
     "name": "stdout",
     "output_type": "stream",
     "text": [
      "(7496, 160, 160, 3)\n",
      "(7496,)\n"
     ]
    }
   ],
   "source": [
    "print(X.shape)\n",
    "print(y.shape)"
   ]
  },
  {
   "cell_type": "code",
   "execution_count": 9,
   "metadata": {},
   "outputs": [],
   "source": [
    "le = LabelEncoder()\n",
    "le.fit(y)\n",
    "y = le.transform(y)"
   ]
  },
  {
   "cell_type": "code",
   "execution_count": 10,
   "metadata": {},
   "outputs": [],
   "source": [
    "y = to_categorical(y)"
   ]
  },
  {
   "cell_type": "markdown",
   "metadata": {},
   "source": [
    "### Running 10-Fold Cross Validation on MobileNet Model"
   ]
  },
  {
   "cell_type": "code",
   "execution_count": 12,
   "metadata": {},
   "outputs": [
    {
     "name": "stdout",
     "output_type": "stream",
     "text": [
      "\n",
      "\n",
      "Fold Run 1 / 10\n",
      "Epoch 1/10\n",
      "6746/6746 [==============================] - 84s 12ms/step - loss: 0.8212 - accuracy: 0.7554\n",
      "Epoch 2/10\n",
      "6746/6746 [==============================] - 82s 12ms/step - loss: 0.3260 - accuracy: 0.8976\n",
      "Epoch 3/10\n",
      "6746/6746 [==============================] - 82s 12ms/step - loss: 0.2590 - accuracy: 0.9180\n",
      "Epoch 4/10\n",
      "6746/6746 [==============================] - 82s 12ms/step - loss: 0.2074 - accuracy: 0.9331\n",
      "Epoch 5/10\n",
      "6746/6746 [==============================] - 82s 12ms/step - loss: 0.1784 - accuracy: 0.9417\n",
      "Epoch 6/10\n",
      "6746/6746 [==============================] - 82s 12ms/step - loss: 0.1449 - accuracy: 0.9546\n",
      "Epoch 7/10\n",
      "6746/6746 [==============================] - 81s 12ms/step - loss: 0.1291 - accuracy: 0.9551\n",
      "Epoch 8/10\n",
      "6746/6746 [==============================] - 82s 12ms/step - loss: 0.0996 - accuracy: 0.9690\n",
      "Epoch 9/10\n",
      "6746/6746 [==============================] - 81s 12ms/step - loss: 0.0957 - accuracy: 0.9695\n",
      "Epoch 10/10\n",
      "6746/6746 [==============================] - 81s 12ms/step - loss: 0.0741 - accuracy: 0.9770\n",
      "\n",
      "Confusion Matrix for Run 1:\n",
      "[[85  3  1  0  1  0  0  4]\n",
      " [ 2 76  1  6  2  3  1  5]\n",
      " [ 0  1 87  0  0  0  3  0]\n",
      " [ 0  0  1 90  0  0  1  0]\n",
      " [ 0  0  0  0 96  0  0  0]\n",
      " [ 0  0  0  1  0 86  0  4]\n",
      " [ 1  7  0  1  0  2 86  1]\n",
      " [ 0  2  1  0  0  8  0 81]]\n",
      "Accuracy : 91.60%\n",
      "\n",
      "\n",
      "Fold Run 2 / 10\n",
      "Epoch 1/10\n",
      "6746/6746 [==============================] - 82s 12ms/step - loss: 0.8228 - accuracy: 0.7556\n",
      "Epoch 2/10\n",
      "6746/6746 [==============================] - 81s 12ms/step - loss: 0.3220 - accuracy: 0.8953\n",
      "Epoch 3/10\n",
      "6746/6746 [==============================] - 81s 12ms/step - loss: 0.2471 - accuracy: 0.9170\n",
      "Epoch 4/10\n",
      "6746/6746 [==============================] - 81s 12ms/step - loss: 0.2057 - accuracy: 0.9330\n",
      "Epoch 5/10\n",
      "6746/6746 [==============================] - 81s 12ms/step - loss: 0.1819 - accuracy: 0.9406\n",
      "Epoch 6/10\n",
      "6746/6746 [==============================] - 81s 12ms/step - loss: 0.1453 - accuracy: 0.9551\n",
      "Epoch 7/10\n",
      "6746/6746 [==============================] - 81s 12ms/step - loss: 0.1215 - accuracy: 0.9615\n",
      "Epoch 8/10\n",
      "6746/6746 [==============================] - 81s 12ms/step - loss: 0.1123 - accuracy: 0.9640\n",
      "Epoch 9/10\n",
      "6746/6746 [==============================] - 81s 12ms/step - loss: 0.0848 - accuracy: 0.9744\n",
      "Epoch 10/10\n",
      "6746/6746 [==============================] - 81s 12ms/step - loss: 0.0749 - accuracy: 0.9770\n",
      "\n",
      "Confusion Matrix for Run 2:\n",
      "[[84  3  1  0  3  1  1  1]\n",
      " [ 2 68  0  0  6  6 10  3]\n",
      " [ 0  0 91  0  0  0  1  0]\n",
      " [ 0  0  0 90  0  0  1  0]\n",
      " [ 0  1  0  0 94  1  1  0]\n",
      " [ 0  0  0  0  0 87  1  3]\n",
      " [ 0  6  1  0  0  4 86  1]\n",
      " [ 1  1  0  0  0  8  1 81]]\n",
      "Accuracy : 90.80%\n",
      "\n",
      "\n",
      "Fold Run 3 / 10\n",
      "Epoch 1/10\n",
      "6746/6746 [==============================] - 82s 12ms/step - loss: 0.8456 - accuracy: 0.7578\n",
      "Epoch 2/10\n",
      "6746/6746 [==============================] - 81s 12ms/step - loss: 0.3279 - accuracy: 0.8924\n",
      "Epoch 3/10\n",
      "6746/6746 [==============================] - 81s 12ms/step - loss: 0.2574 - accuracy: 0.9125\n",
      "Epoch 4/10\n",
      "6746/6746 [==============================] - 81s 12ms/step - loss: 0.2044 - accuracy: 0.9336\n",
      "Epoch 5/10\n",
      "6746/6746 [==============================] - 81s 12ms/step - loss: 0.1780 - accuracy: 0.9409\n",
      "Epoch 6/10\n",
      "6746/6746 [==============================] - 81s 12ms/step - loss: 0.1502 - accuracy: 0.9532\n",
      "Epoch 7/10\n",
      "6746/6746 [==============================] - 81s 12ms/step - loss: 0.1218 - accuracy: 0.9588\n",
      "Epoch 8/10\n",
      "6746/6746 [==============================] - 81s 12ms/step - loss: 0.1094 - accuracy: 0.9637\n",
      "Epoch 9/10\n",
      "6746/6746 [==============================] - 81s 12ms/step - loss: 0.0877 - accuracy: 0.9726\n",
      "Epoch 10/10\n",
      "6746/6746 [==============================] - 81s 12ms/step - loss: 0.0785 - accuracy: 0.9757\n",
      "\n",
      "Confusion Matrix for Run 3:\n",
      "[[77  7  0  2  2  2  1  3]\n",
      " [ 1 78  0  4  2  1  6  3]\n",
      " [ 0  0 90  1  0  1  0  0]\n",
      " [ 0  0  0 89  1  1  0  0]\n",
      " [ 0  3  0  0 93  0  1  0]\n",
      " [ 0  1  1  0  0 84  1  4]\n",
      " [ 0  4  3  2  0  3 85  1]\n",
      " [ 1  3  0  0  0  9  0 79]]\n",
      "Accuracy : 90.00%\n",
      "\n",
      "\n",
      "Fold Run 4 / 10\n",
      "Epoch 1/10\n",
      "6746/6746 [==============================] - 82s 12ms/step - loss: 0.8136 - accuracy: 0.7504\n",
      "Epoch 2/10\n",
      "6746/6746 [==============================] - 81s 12ms/step - loss: 0.3290 - accuracy: 0.8956\n",
      "Epoch 3/10\n",
      "6746/6746 [==============================] - 81s 12ms/step - loss: 0.2564 - accuracy: 0.9208\n",
      "Epoch 4/10\n",
      "6746/6746 [==============================] - 81s 12ms/step - loss: 0.2060 - accuracy: 0.9317\n",
      "Epoch 5/10\n",
      "6746/6746 [==============================] - 81s 12ms/step - loss: 0.1802 - accuracy: 0.9431\n",
      "Epoch 6/10\n",
      "6746/6746 [==============================] - 81s 12ms/step - loss: 0.1529 - accuracy: 0.9489\n",
      "Epoch 7/10\n",
      "6746/6746 [==============================] - 81s 12ms/step - loss: 0.1222 - accuracy: 0.9598\n",
      "Epoch 8/10\n",
      "6746/6746 [==============================] - 81s 12ms/step - loss: 0.1024 - accuracy: 0.9658\n",
      "Epoch 9/10\n",
      "6746/6746 [==============================] - 81s 12ms/step - loss: 0.0856 - accuracy: 0.9730\n",
      "Epoch 10/10\n",
      "6746/6746 [==============================] - 81s 12ms/step - loss: 0.0761 - accuracy: 0.9779\n",
      "\n",
      "Confusion Matrix for Run 4:\n",
      "[[81  3  2  0  1  1  3  2]\n",
      " [ 0 82  1  0  0  1  4  8]\n",
      " [ 0  0 92  0  0  0  0  0]\n",
      " [ 0  2  1 88  0  0  0  0]\n",
      " [ 1  2  0  0 93  0  1  0]\n",
      " [ 0  0  1  0  0 86  1  3]\n",
      " [ 2  3  5  0  1  3 83  0]\n",
      " [ 0  2  0  0  0 12  1 78]]\n",
      "Accuracy : 91.07%\n",
      "\n",
      "\n",
      "Fold Run 5 / 10\n",
      "Epoch 1/10\n",
      "6746/6746 [==============================] - 82s 12ms/step - loss: 0.7783 - accuracy: 0.7640\n",
      "Epoch 2/10\n",
      "6746/6746 [==============================] - 81s 12ms/step - loss: 0.3130 - accuracy: 0.8971\n",
      "Epoch 3/10\n",
      "6746/6746 [==============================] - 81s 12ms/step - loss: 0.2575 - accuracy: 0.9124\n",
      "Epoch 4/10\n",
      "6746/6746 [==============================] - 81s 12ms/step - loss: 0.2046 - accuracy: 0.9355\n",
      "Epoch 5/10\n",
      "6746/6746 [==============================] - 81s 12ms/step - loss: 0.1760 - accuracy: 0.9406\n",
      "Epoch 6/10\n",
      "6746/6746 [==============================] - 81s 12ms/step - loss: 0.1494 - accuracy: 0.9530\n",
      "Epoch 7/10\n",
      "6746/6746 [==============================] - 81s 12ms/step - loss: 0.1246 - accuracy: 0.9579\n",
      "Epoch 8/10\n",
      "6746/6746 [==============================] - 81s 12ms/step - loss: 0.1047 - accuracy: 0.9678\n",
      "Epoch 9/10\n",
      "6746/6746 [==============================] - 81s 12ms/step - loss: 0.1017 - accuracy: 0.9671\n",
      "Epoch 10/10\n",
      "6746/6746 [==============================] - 81s 12ms/step - loss: 0.0753 - accuracy: 0.9755\n",
      "\n",
      "Confusion Matrix for Run 5:\n",
      "[[79  7  2  0  0  0  4  1]\n",
      " [ 0 75  5  0  5  2  5  4]\n",
      " [ 0  0 90  0  0  1  1  0]\n",
      " [ 0  1  1 88  0  0  1  0]\n",
      " [ 0  1  0  0 96  0  0  0]\n",
      " [ 0  3  0  0  0 86  2  0]\n",
      " [ 0  1  4  1  0  5 86  0]\n",
      " [ 1  3  0  0  0 10  1 78]]\n",
      "Accuracy : 90.40%\n",
      "\n",
      "\n",
      "Fold Run 6 / 10\n",
      "Epoch 1/10\n",
      "6746/6746 [==============================] - 82s 12ms/step - loss: 0.8240 - accuracy: 0.7545\n",
      "Epoch 2/10\n",
      "6746/6746 [==============================] - 81s 12ms/step - loss: 0.3102 - accuracy: 0.8991\n",
      "Epoch 3/10\n",
      "6746/6746 [==============================] - 81s 12ms/step - loss: 0.2437 - accuracy: 0.9179\n",
      "Epoch 4/10\n",
      "6746/6746 [==============================] - 81s 12ms/step - loss: 0.1992 - accuracy: 0.9323\n",
      "Epoch 5/10\n",
      "6746/6746 [==============================] - 81s 12ms/step - loss: 0.1721 - accuracy: 0.9429\n",
      "Epoch 6/10\n",
      "6746/6746 [==============================] - 81s 12ms/step - loss: 0.1417 - accuracy: 0.9532\n",
      "Epoch 7/10\n",
      "6746/6746 [==============================] - 81s 12ms/step - loss: 0.1272 - accuracy: 0.9580\n",
      "Epoch 8/10\n",
      "6746/6746 [==============================] - 81s 12ms/step - loss: 0.1056 - accuracy: 0.9671\n",
      "Epoch 9/10\n",
      "6746/6746 [==============================] - 81s 12ms/step - loss: 0.0913 - accuracy: 0.9729\n",
      "Epoch 10/10\n",
      "6746/6746 [==============================] - 81s 12ms/step - loss: 0.0752 - accuracy: 0.9773\n",
      "\n",
      "Confusion Matrix for Run 6:\n",
      "[[75  3  1  3  4  3  3  1]\n",
      " [ 2 77  1  0  5  1  7  3]\n",
      " [ 0  0 89  0  0  0  3  0]\n",
      " [ 0  1  0 89  0  1  0  0]\n",
      " [ 0  0  0  0 96  0  1  0]\n",
      " [ 0  0  0  0  0 87  2  2]\n",
      " [ 0  3  0  0  2  1 90  1]\n",
      " [ 2  0  0  1  0  8  1 81]]\n",
      "Accuracy : 91.20%\n",
      "\n",
      "\n",
      "Fold Run 7 / 10\n",
      "Epoch 1/10\n",
      "6747/6747 [==============================] - 84s 12ms/step - loss: 0.8678 - accuracy: 0.7344\n",
      "Epoch 2/10\n",
      "6747/6747 [==============================] - 82s 12ms/step - loss: 0.3359 - accuracy: 0.8905\n",
      "Epoch 3/10\n",
      "6747/6747 [==============================] - 81s 12ms/step - loss: 0.2581 - accuracy: 0.9166\n",
      "Epoch 4/10\n",
      "6747/6747 [==============================] - 81s 12ms/step - loss: 0.2132 - accuracy: 0.9289\n",
      "Epoch 5/10\n",
      "6747/6747 [==============================] - 81s 12ms/step - loss: 0.1657 - accuracy: 0.9438\n",
      "Epoch 6/10\n",
      "6747/6747 [==============================] - 81s 12ms/step - loss: 0.1487 - accuracy: 0.9529\n",
      "Epoch 7/10\n",
      "6747/6747 [==============================] - 81s 12ms/step - loss: 0.1350 - accuracy: 0.9536\n",
      "Epoch 8/10\n",
      "6747/6747 [==============================] - 81s 12ms/step - loss: 0.1083 - accuracy: 0.9655\n",
      "Epoch 9/10\n",
      "6747/6747 [==============================] - 81s 12ms/step - loss: 0.0854 - accuracy: 0.9724\n",
      "Epoch 10/10\n",
      "6747/6747 [==============================] - 81s 12ms/step - loss: 0.0723 - accuracy: 0.9769\n",
      "\n",
      "Confusion Matrix for Run 7:\n",
      "[[79  6  0  1  3  2  2  0]\n",
      " [ 2 81  0  0  3  5  3  2]\n",
      " [ 0  0 90  1  0  0  1  0]\n",
      " [ 0  0  0 89  0  0  2  0]\n",
      " [ 0  4  0  0 92  0  1  0]\n",
      " [ 0  0  0  0  0 89  0  2]\n",
      " [ 0  7  3  1  0  2 83  1]\n",
      " [ 0  1  0  0  0 22  0 69]]\n",
      "Accuracy : 89.72%\n",
      "\n",
      "\n",
      "Fold Run 8 / 10\n",
      "Epoch 1/10\n",
      "6747/6747 [==============================] - 82s 12ms/step - loss: 0.8258 - accuracy: 0.7566\n",
      "Epoch 2/10\n",
      "6747/6747 [==============================] - 81s 12ms/step - loss: 0.3315 - accuracy: 0.8951\n",
      "Epoch 3/10\n",
      "6747/6747 [==============================] - 81s 12ms/step - loss: 0.2550 - accuracy: 0.9142\n",
      "Epoch 4/10\n",
      "6747/6747 [==============================] - 81s 12ms/step - loss: 0.2084 - accuracy: 0.9327\n",
      "Epoch 5/10\n",
      "6747/6747 [==============================] - 81s 12ms/step - loss: 0.1711 - accuracy: 0.9458\n",
      "Epoch 6/10\n",
      "6747/6747 [==============================] - 81s 12ms/step - loss: 0.1468 - accuracy: 0.9526\n",
      "Epoch 7/10\n",
      "6747/6747 [==============================] - 81s 12ms/step - loss: 0.1224 - accuracy: 0.9595\n",
      "Epoch 8/10\n",
      "6747/6747 [==============================] - 81s 12ms/step - loss: 0.1097 - accuracy: 0.9613\n",
      "Epoch 9/10\n",
      "6747/6747 [==============================] - 81s 12ms/step - loss: 0.0862 - accuracy: 0.9754\n",
      "Epoch 10/10\n",
      "6747/6747 [==============================] - 81s 12ms/step - loss: 0.0770 - accuracy: 0.9754\n",
      "\n",
      "Confusion Matrix for Run 8:\n",
      "[[83  5  0  1  0  2  2  0]\n",
      " [ 2 81  2  2  1  1  4  3]\n",
      " [ 0  1 87  1  0  0  2  0]\n",
      " [ 0  2  0 90  0  0  0  0]\n",
      " [ 1  1  0  0 91  0  2  2]\n",
      " [ 0  1  0  0  0 89  1  0]\n",
      " [ 1  5  5  1  0  4 80  1]\n",
      " [ 0  2  1  4  0  7  0 78]]\n",
      "Accuracy : 90.65%\n",
      "\n",
      "\n",
      "Fold Run 9 / 10\n",
      "Epoch 1/10\n",
      "6747/6747 [==============================] - 82s 12ms/step - loss: 0.8452 - accuracy: 0.7461\n",
      "Epoch 2/10\n",
      "6747/6747 [==============================] - 81s 12ms/step - loss: 0.3293 - accuracy: 0.8896\n",
      "Epoch 3/10\n",
      "6747/6747 [==============================] - 81s 12ms/step - loss: 0.2580 - accuracy: 0.9149\n",
      "Epoch 4/10\n",
      "6747/6747 [==============================] - 81s 12ms/step - loss: 0.2145 - accuracy: 0.9293\n",
      "Epoch 5/10\n",
      "6747/6747 [==============================] - 81s 12ms/step - loss: 0.1869 - accuracy: 0.9412\n",
      "Epoch 6/10\n",
      "6747/6747 [==============================] - 81s 12ms/step - loss: 0.1579 - accuracy: 0.9484\n",
      "Epoch 7/10\n",
      "6747/6747 [==============================] - 81s 12ms/step - loss: 0.1281 - accuracy: 0.9597\n",
      "Epoch 8/10\n",
      "6747/6747 [==============================] - 81s 12ms/step - loss: 0.1088 - accuracy: 0.9665\n",
      "Epoch 9/10\n",
      "6747/6747 [==============================] - 81s 12ms/step - loss: 0.0988 - accuracy: 0.9699\n",
      "Epoch 10/10\n",
      "6747/6747 [==============================] - 81s 12ms/step - loss: 0.0785 - accuracy: 0.9738\n",
      "\n",
      "Confusion Matrix for Run 9:\n",
      "[[87  2  1  0  1  0  1  1]\n",
      " [ 1 82  1  1  3  3  2  3]\n",
      " [ 0  2 89  0  0  0  0  0]\n",
      " [ 0  0  1 91  0  0  0  0]\n",
      " [ 0  2  0  0 92  1  0  1]\n",
      " [ 0  0  0  0  1 90  0  0]\n",
      " [ 1  3  3  1  1  3 85  1]\n",
      " [ 0  2  0  0  3 10  1 76]]\n",
      "Accuracy : 92.39%\n",
      "\n",
      "\n",
      "Fold Run 10 / 10\n",
      "Epoch 1/10\n",
      "6747/6747 [==============================] - 82s 12ms/step - loss: 0.8320 - accuracy: 0.7412\n",
      "Epoch 2/10\n",
      "6747/6747 [==============================] - 81s 12ms/step - loss: 0.3187 - accuracy: 0.8928\n",
      "Epoch 3/10\n",
      "6747/6747 [==============================] - 81s 12ms/step - loss: 0.2535 - accuracy: 0.9171\n",
      "Epoch 4/10\n",
      "6747/6747 [==============================] - 81s 12ms/step - loss: 0.2116 - accuracy: 0.9315\n",
      "Epoch 5/10\n",
      "6747/6747 [==============================] - 81s 12ms/step - loss: 0.1818 - accuracy: 0.9418\n",
      "Epoch 6/10\n",
      "6747/6747 [==============================] - 81s 12ms/step - loss: 0.1482 - accuracy: 0.9554\n",
      "Epoch 7/10\n",
      "6747/6747 [==============================] - 81s 12ms/step - loss: 0.1277 - accuracy: 0.9585\n",
      "Epoch 8/10\n",
      "6747/6747 [==============================] - 81s 12ms/step - loss: 0.1055 - accuracy: 0.9677\n",
      "Epoch 9/10\n",
      "6747/6747 [==============================] - 81s 12ms/step - loss: 0.0897 - accuracy: 0.9708\n",
      "Epoch 10/10\n",
      "6747/6747 [==============================] - 81s 12ms/step - loss: 0.0812 - accuracy: 0.9742\n",
      "\n",
      "Confusion Matrix for Run 10:\n",
      "[[87  1  2  0  0  1  0  2]\n",
      " [ 2 80  0  1  1  7  2  3]\n",
      " [ 0  0 90  0  0  0  1  0]\n",
      " [ 0  3  0 87  2  0  0  0]\n",
      " [ 0  2  0  0 94  0  0  0]\n",
      " [ 0  1  0  0  0 86  2  2]\n",
      " [ 1  1  1  1  0  2 92  0]\n",
      " [ 0  0  1  1  0 12  0 78]]\n",
      "Accuracy : 92.66%\n"
     ]
    }
   ],
   "source": [
    "kfold = StratifiedKFold(n_splits = 10, shuffle = True, random_state = 42)\n",
    "cvscores = list()\n",
    "confusionM = np.zeros((8, 8))\n",
    "\n",
    "k = 10\n",
    "\n",
    "for i, (train, test) in enumerate(kfold.split(X, np.argmax(y, axis = 1))):\n",
    "    print(\"\\n\")\n",
    "    print(f'Fold Run {i + 1} / {k}')\n",
    "    \n",
    "    #Create the Model\n",
    "    base_model = MobileNet(input_shape = (160, 160, 3), weights = 'imagenet', include_top = False)\n",
    "\n",
    "    for layer in base_model.layers:\n",
    "        layer.trainable = False\n",
    "\n",
    "    x = base_model.output\n",
    "    x = GlobalAveragePooling2D()(x)\n",
    "    x = Dense(512, activation = 'relu')(x)\n",
    "    x = Dense(256, activation = 'relu')(x) \n",
    "    x = Dense(128, activation = 'relu')(x)\n",
    "    x = Dense(64, activation = 'relu')(x)\n",
    "    preds = Dense(8, activation = 'softmax')(x)\n",
    "    \n",
    "    mobilenet_model = Model(inputs = base_model.input, outputs = preds)\n",
    "    \n",
    "    mobilenet_model.compile(optimizer = Adam(lr = 0.0001, beta_1 = 0.9, beta_2 = 0.999), loss = 'categorical_crossentropy', metrics = ['accuracy'])\n",
    "    \n",
    "    mobilenet_model.fit(X[train], y[train], epochs = 10, batch_size = 32)\n",
    "    \n",
    "    scores = mobilenet_model.evaluate(X[test], y[test], verbose = 0)\n",
    "    predictions = np.argmax(mobilenet_model.predict(X[test]), axis = 1)\n",
    "    \n",
    "    runCM = confusion_matrix(np.argmax(y[test], axis = 1), predictions)  \n",
    "    print(\"\\nConfusion Matrix for Run \" + str(i + 1) + \":\")\n",
    "    print(runCM)\n",
    "    \n",
    "    confusionM = confusionM + runCM\n",
    "    \n",
    "    print(\"Accuracy : %.2f%%\" % (scores[1] * 100))\n",
    "    cvscores.append(scores[1] * 100)"
   ]
  },
  {
   "cell_type": "code",
   "execution_count": 19,
   "metadata": {},
   "outputs": [
    {
     "name": "stdout",
     "output_type": "stream",
     "text": [
      "Average Accuracy with 10 Fold Cross Validation = 91.05%\n"
     ]
    }
   ],
   "source": [
    "print(\"Average Accuracy with 10 Fold Cross Validation = %.2f%%\" %(np.mean(cvscores)))"
   ]
  },
  {
   "cell_type": "code",
   "execution_count": 31,
   "metadata": {},
   "outputs": [
    {
     "name": "stdout",
     "output_type": "stream",
     "text": [
      "[[0.01 0.02 0.   0.01 0.   0.11 0.01 0.84]\n",
      " [0.01 0.04 0.03 0.01 0.   0.03 0.88 0.01]\n",
      " [0.   0.01 0.   0.   0.   0.96 0.01 0.02]\n",
      " [0.   0.02 0.   0.   0.97 0.   0.01 0.  ]\n",
      " [0.   0.01 0.   0.97 0.   0.   0.01 0.  ]\n",
      " [0.   0.   0.98 0.   0.   0.   0.01 0.  ]\n",
      " [0.01 0.81 0.01 0.01 0.03 0.03 0.05 0.04]\n",
      " [0.88 0.04 0.01 0.01 0.02 0.01 0.02 0.02]]\n"
     ]
    },
    {
     "data": {
      "application/vnd.plotly.v1+json": {
       "config": {
        "plotlyServerURL": "https://plot.ly"
       },
       "data": [
        {
         "colorscale": [
          [
           0,
           "rgb(253, 253, 204)"
          ],
          [
           0.09090909090909091,
           "rgb(206, 236, 179)"
          ],
          [
           0.18181818181818182,
           "rgb(156, 219, 165)"
          ],
          [
           0.2727272727272727,
           "rgb(111, 201, 163)"
          ],
          [
           0.36363636363636365,
           "rgb(86, 177, 163)"
          ],
          [
           0.45454545454545453,
           "rgb(76, 153, 160)"
          ],
          [
           0.5454545454545454,
           "rgb(68, 130, 155)"
          ],
          [
           0.6363636363636364,
           "rgb(62, 108, 150)"
          ],
          [
           0.7272727272727273,
           "rgb(62, 82, 143)"
          ],
          [
           0.8181818181818182,
           "rgb(64, 60, 115)"
          ],
          [
           0.9090909090909091,
           "rgb(54, 43, 77)"
          ],
          [
           1,
           "rgb(39, 26, 44)"
          ]
         ],
         "reversescale": false,
         "showscale": false,
         "type": "heatmap",
         "x": [
          "animals",
          "art",
          "automobiles",
          "fashion",
          "food",
          "houses",
          "technology",
          "travel"
         ],
         "y": [
          "travel",
          "technology",
          "houses",
          "food",
          "fashion",
          "automobiles",
          "art",
          "animals"
         ],
         "z": [
          [
           0.01,
           0.02,
           0,
           0.01,
           0,
           0.11,
           0.01,
           0.84
          ],
          [
           0.01,
           0.04,
           0.03,
           0.01,
           0,
           0.03,
           0.88,
           0.01
          ],
          [
           0,
           0.01,
           0,
           0,
           0,
           0.96,
           0.01,
           0.02
          ],
          [
           0,
           0.02,
           0,
           0,
           0.97,
           0,
           0.01,
           0
          ],
          [
           0,
           0.01,
           0,
           0.97,
           0,
           0,
           0.01,
           0
          ],
          [
           0,
           0,
           0.98,
           0,
           0,
           0,
           0.01,
           0
          ],
          [
           0.01,
           0.81,
           0.01,
           0.01,
           0.03,
           0.03,
           0.05,
           0.04
          ],
          [
           0.88,
           0.04,
           0.01,
           0.01,
           0.02,
           0.01,
           0.02,
           0.02
          ]
         ]
        }
       ],
       "layout": {
        "annotations": [
         {
          "font": {
           "color": "#000000"
          },
          "showarrow": false,
          "text": "0.01",
          "x": "animals",
          "xref": "x",
          "y": "travel",
          "yref": "y"
         },
         {
          "font": {
           "color": "#000000"
          },
          "showarrow": false,
          "text": "0.02",
          "x": "art",
          "xref": "x",
          "y": "travel",
          "yref": "y"
         },
         {
          "font": {
           "color": "#000000"
          },
          "showarrow": false,
          "text": "0.0",
          "x": "automobiles",
          "xref": "x",
          "y": "travel",
          "yref": "y"
         },
         {
          "font": {
           "color": "#000000"
          },
          "showarrow": false,
          "text": "0.01",
          "x": "fashion",
          "xref": "x",
          "y": "travel",
          "yref": "y"
         },
         {
          "font": {
           "color": "#000000"
          },
          "showarrow": false,
          "text": "0.0",
          "x": "food",
          "xref": "x",
          "y": "travel",
          "yref": "y"
         },
         {
          "font": {
           "color": "#000000"
          },
          "showarrow": false,
          "text": "0.11",
          "x": "houses",
          "xref": "x",
          "y": "travel",
          "yref": "y"
         },
         {
          "font": {
           "color": "#000000"
          },
          "showarrow": false,
          "text": "0.01",
          "x": "technology",
          "xref": "x",
          "y": "travel",
          "yref": "y"
         },
         {
          "font": {
           "color": "#FFFFFF"
          },
          "showarrow": false,
          "text": "0.84",
          "x": "travel",
          "xref": "x",
          "y": "travel",
          "yref": "y"
         },
         {
          "font": {
           "color": "#000000"
          },
          "showarrow": false,
          "text": "0.01",
          "x": "animals",
          "xref": "x",
          "y": "technology",
          "yref": "y"
         },
         {
          "font": {
           "color": "#000000"
          },
          "showarrow": false,
          "text": "0.04",
          "x": "art",
          "xref": "x",
          "y": "technology",
          "yref": "y"
         },
         {
          "font": {
           "color": "#000000"
          },
          "showarrow": false,
          "text": "0.03",
          "x": "automobiles",
          "xref": "x",
          "y": "technology",
          "yref": "y"
         },
         {
          "font": {
           "color": "#000000"
          },
          "showarrow": false,
          "text": "0.01",
          "x": "fashion",
          "xref": "x",
          "y": "technology",
          "yref": "y"
         },
         {
          "font": {
           "color": "#000000"
          },
          "showarrow": false,
          "text": "0.0",
          "x": "food",
          "xref": "x",
          "y": "technology",
          "yref": "y"
         },
         {
          "font": {
           "color": "#000000"
          },
          "showarrow": false,
          "text": "0.03",
          "x": "houses",
          "xref": "x",
          "y": "technology",
          "yref": "y"
         },
         {
          "font": {
           "color": "#FFFFFF"
          },
          "showarrow": false,
          "text": "0.88",
          "x": "technology",
          "xref": "x",
          "y": "technology",
          "yref": "y"
         },
         {
          "font": {
           "color": "#000000"
          },
          "showarrow": false,
          "text": "0.01",
          "x": "travel",
          "xref": "x",
          "y": "technology",
          "yref": "y"
         },
         {
          "font": {
           "color": "#000000"
          },
          "showarrow": false,
          "text": "0.0",
          "x": "animals",
          "xref": "x",
          "y": "houses",
          "yref": "y"
         },
         {
          "font": {
           "color": "#000000"
          },
          "showarrow": false,
          "text": "0.01",
          "x": "art",
          "xref": "x",
          "y": "houses",
          "yref": "y"
         },
         {
          "font": {
           "color": "#000000"
          },
          "showarrow": false,
          "text": "0.0",
          "x": "automobiles",
          "xref": "x",
          "y": "houses",
          "yref": "y"
         },
         {
          "font": {
           "color": "#000000"
          },
          "showarrow": false,
          "text": "0.0",
          "x": "fashion",
          "xref": "x",
          "y": "houses",
          "yref": "y"
         },
         {
          "font": {
           "color": "#000000"
          },
          "showarrow": false,
          "text": "0.0",
          "x": "food",
          "xref": "x",
          "y": "houses",
          "yref": "y"
         },
         {
          "font": {
           "color": "#FFFFFF"
          },
          "showarrow": false,
          "text": "0.96",
          "x": "houses",
          "xref": "x",
          "y": "houses",
          "yref": "y"
         },
         {
          "font": {
           "color": "#000000"
          },
          "showarrow": false,
          "text": "0.01",
          "x": "technology",
          "xref": "x",
          "y": "houses",
          "yref": "y"
         },
         {
          "font": {
           "color": "#000000"
          },
          "showarrow": false,
          "text": "0.02",
          "x": "travel",
          "xref": "x",
          "y": "houses",
          "yref": "y"
         },
         {
          "font": {
           "color": "#000000"
          },
          "showarrow": false,
          "text": "0.0",
          "x": "animals",
          "xref": "x",
          "y": "food",
          "yref": "y"
         },
         {
          "font": {
           "color": "#000000"
          },
          "showarrow": false,
          "text": "0.02",
          "x": "art",
          "xref": "x",
          "y": "food",
          "yref": "y"
         },
         {
          "font": {
           "color": "#000000"
          },
          "showarrow": false,
          "text": "0.0",
          "x": "automobiles",
          "xref": "x",
          "y": "food",
          "yref": "y"
         },
         {
          "font": {
           "color": "#000000"
          },
          "showarrow": false,
          "text": "0.0",
          "x": "fashion",
          "xref": "x",
          "y": "food",
          "yref": "y"
         },
         {
          "font": {
           "color": "#FFFFFF"
          },
          "showarrow": false,
          "text": "0.97",
          "x": "food",
          "xref": "x",
          "y": "food",
          "yref": "y"
         },
         {
          "font": {
           "color": "#000000"
          },
          "showarrow": false,
          "text": "0.0",
          "x": "houses",
          "xref": "x",
          "y": "food",
          "yref": "y"
         },
         {
          "font": {
           "color": "#000000"
          },
          "showarrow": false,
          "text": "0.01",
          "x": "technology",
          "xref": "x",
          "y": "food",
          "yref": "y"
         },
         {
          "font": {
           "color": "#000000"
          },
          "showarrow": false,
          "text": "0.0",
          "x": "travel",
          "xref": "x",
          "y": "food",
          "yref": "y"
         },
         {
          "font": {
           "color": "#000000"
          },
          "showarrow": false,
          "text": "0.0",
          "x": "animals",
          "xref": "x",
          "y": "fashion",
          "yref": "y"
         },
         {
          "font": {
           "color": "#000000"
          },
          "showarrow": false,
          "text": "0.01",
          "x": "art",
          "xref": "x",
          "y": "fashion",
          "yref": "y"
         },
         {
          "font": {
           "color": "#000000"
          },
          "showarrow": false,
          "text": "0.0",
          "x": "automobiles",
          "xref": "x",
          "y": "fashion",
          "yref": "y"
         },
         {
          "font": {
           "color": "#FFFFFF"
          },
          "showarrow": false,
          "text": "0.97",
          "x": "fashion",
          "xref": "x",
          "y": "fashion",
          "yref": "y"
         },
         {
          "font": {
           "color": "#000000"
          },
          "showarrow": false,
          "text": "0.0",
          "x": "food",
          "xref": "x",
          "y": "fashion",
          "yref": "y"
         },
         {
          "font": {
           "color": "#000000"
          },
          "showarrow": false,
          "text": "0.0",
          "x": "houses",
          "xref": "x",
          "y": "fashion",
          "yref": "y"
         },
         {
          "font": {
           "color": "#000000"
          },
          "showarrow": false,
          "text": "0.01",
          "x": "technology",
          "xref": "x",
          "y": "fashion",
          "yref": "y"
         },
         {
          "font": {
           "color": "#000000"
          },
          "showarrow": false,
          "text": "0.0",
          "x": "travel",
          "xref": "x",
          "y": "fashion",
          "yref": "y"
         },
         {
          "font": {
           "color": "#000000"
          },
          "showarrow": false,
          "text": "0.0",
          "x": "animals",
          "xref": "x",
          "y": "automobiles",
          "yref": "y"
         },
         {
          "font": {
           "color": "#000000"
          },
          "showarrow": false,
          "text": "0.0",
          "x": "art",
          "xref": "x",
          "y": "automobiles",
          "yref": "y"
         },
         {
          "font": {
           "color": "#FFFFFF"
          },
          "showarrow": false,
          "text": "0.98",
          "x": "automobiles",
          "xref": "x",
          "y": "automobiles",
          "yref": "y"
         },
         {
          "font": {
           "color": "#000000"
          },
          "showarrow": false,
          "text": "0.0",
          "x": "fashion",
          "xref": "x",
          "y": "automobiles",
          "yref": "y"
         },
         {
          "font": {
           "color": "#000000"
          },
          "showarrow": false,
          "text": "0.0",
          "x": "food",
          "xref": "x",
          "y": "automobiles",
          "yref": "y"
         },
         {
          "font": {
           "color": "#000000"
          },
          "showarrow": false,
          "text": "0.0",
          "x": "houses",
          "xref": "x",
          "y": "automobiles",
          "yref": "y"
         },
         {
          "font": {
           "color": "#000000"
          },
          "showarrow": false,
          "text": "0.01",
          "x": "technology",
          "xref": "x",
          "y": "automobiles",
          "yref": "y"
         },
         {
          "font": {
           "color": "#000000"
          },
          "showarrow": false,
          "text": "0.0",
          "x": "travel",
          "xref": "x",
          "y": "automobiles",
          "yref": "y"
         },
         {
          "font": {
           "color": "#000000"
          },
          "showarrow": false,
          "text": "0.01",
          "x": "animals",
          "xref": "x",
          "y": "art",
          "yref": "y"
         },
         {
          "font": {
           "color": "#FFFFFF"
          },
          "showarrow": false,
          "text": "0.81",
          "x": "art",
          "xref": "x",
          "y": "art",
          "yref": "y"
         },
         {
          "font": {
           "color": "#000000"
          },
          "showarrow": false,
          "text": "0.01",
          "x": "automobiles",
          "xref": "x",
          "y": "art",
          "yref": "y"
         },
         {
          "font": {
           "color": "#000000"
          },
          "showarrow": false,
          "text": "0.01",
          "x": "fashion",
          "xref": "x",
          "y": "art",
          "yref": "y"
         },
         {
          "font": {
           "color": "#000000"
          },
          "showarrow": false,
          "text": "0.03",
          "x": "food",
          "xref": "x",
          "y": "art",
          "yref": "y"
         },
         {
          "font": {
           "color": "#000000"
          },
          "showarrow": false,
          "text": "0.03",
          "x": "houses",
          "xref": "x",
          "y": "art",
          "yref": "y"
         },
         {
          "font": {
           "color": "#000000"
          },
          "showarrow": false,
          "text": "0.05",
          "x": "technology",
          "xref": "x",
          "y": "art",
          "yref": "y"
         },
         {
          "font": {
           "color": "#000000"
          },
          "showarrow": false,
          "text": "0.04",
          "x": "travel",
          "xref": "x",
          "y": "art",
          "yref": "y"
         },
         {
          "font": {
           "color": "#FFFFFF"
          },
          "showarrow": false,
          "text": "0.88",
          "x": "animals",
          "xref": "x",
          "y": "animals",
          "yref": "y"
         },
         {
          "font": {
           "color": "#000000"
          },
          "showarrow": false,
          "text": "0.04",
          "x": "art",
          "xref": "x",
          "y": "animals",
          "yref": "y"
         },
         {
          "font": {
           "color": "#000000"
          },
          "showarrow": false,
          "text": "0.01",
          "x": "automobiles",
          "xref": "x",
          "y": "animals",
          "yref": "y"
         },
         {
          "font": {
           "color": "#000000"
          },
          "showarrow": false,
          "text": "0.01",
          "x": "fashion",
          "xref": "x",
          "y": "animals",
          "yref": "y"
         },
         {
          "font": {
           "color": "#000000"
          },
          "showarrow": false,
          "text": "0.02",
          "x": "food",
          "xref": "x",
          "y": "animals",
          "yref": "y"
         },
         {
          "font": {
           "color": "#000000"
          },
          "showarrow": false,
          "text": "0.01",
          "x": "houses",
          "xref": "x",
          "y": "animals",
          "yref": "y"
         },
         {
          "font": {
           "color": "#000000"
          },
          "showarrow": false,
          "text": "0.02",
          "x": "technology",
          "xref": "x",
          "y": "animals",
          "yref": "y"
         },
         {
          "font": {
           "color": "#000000"
          },
          "showarrow": false,
          "text": "0.02",
          "x": "travel",
          "xref": "x",
          "y": "animals",
          "yref": "y"
         }
        ],
        "height": 800,
        "template": {
         "data": {
          "scatter": [
           {
            "type": "scatter"
           }
          ]
         }
        },
        "title": {
         "text": "10-Fold Cross Validation Model",
         "x": 0.47,
         "xanchor": "center",
         "y": 0.95,
         "yanchor": "top"
        },
        "width": 800,
        "xaxis": {
         "dtick": 1,
         "gridcolor": "rgb(0, 0, 0)",
         "showgrid": false,
         "side": "bottom",
         "ticks": "",
         "title": {
          "text": "Predicted Labels"
         }
        },
        "yaxis": {
         "dtick": 1,
         "showgrid": false,
         "ticks": "",
         "ticksuffix": "  ",
         "title": {
          "text": "True Labels"
         }
        }
       }
      },
      "text/html": [
       "<div>\n",
       "        \n",
       "        \n",
       "            <div id=\"ee33189c-8399-406b-94b5-e44d417e0211\" class=\"plotly-graph-div\" style=\"height:800px; width:800px;\"></div>\n",
       "            <script type=\"text/javascript\">\n",
       "                require([\"plotly\"], function(Plotly) {\n",
       "                    window.PLOTLYENV=window.PLOTLYENV || {};\n",
       "                    \n",
       "                if (document.getElementById(\"ee33189c-8399-406b-94b5-e44d417e0211\")) {\n",
       "                    Plotly.newPlot(\n",
       "                        'ee33189c-8399-406b-94b5-e44d417e0211',\n",
       "                        [{\"colorscale\": [[0.0, \"rgb(253, 253, 204)\"], [0.09090909090909091, \"rgb(206, 236, 179)\"], [0.18181818181818182, \"rgb(156, 219, 165)\"], [0.2727272727272727, \"rgb(111, 201, 163)\"], [0.36363636363636365, \"rgb(86, 177, 163)\"], [0.45454545454545453, \"rgb(76, 153, 160)\"], [0.5454545454545454, \"rgb(68, 130, 155)\"], [0.6363636363636364, \"rgb(62, 108, 150)\"], [0.7272727272727273, \"rgb(62, 82, 143)\"], [0.8181818181818182, \"rgb(64, 60, 115)\"], [0.9090909090909091, \"rgb(54, 43, 77)\"], [1.0, \"rgb(39, 26, 44)\"]], \"reversescale\": false, \"showscale\": false, \"type\": \"heatmap\", \"x\": [\"animals\", \"art\", \"automobiles\", \"fashion\", \"food\", \"houses\", \"technology\", \"travel\"], \"y\": [\"travel\", \"technology\", \"houses\", \"food\", \"fashion\", \"automobiles\", \"art\", \"animals\"], \"z\": [[0.01, 0.02, 0.0, 0.01, 0.0, 0.11, 0.01, 0.84], [0.01, 0.04, 0.03, 0.01, 0.0, 0.03, 0.88, 0.01], [0.0, 0.01, 0.0, 0.0, 0.0, 0.96, 0.01, 0.02], [0.0, 0.02, 0.0, 0.0, 0.97, 0.0, 0.01, 0.0], [0.0, 0.01, 0.0, 0.97, 0.0, 0.0, 0.01, 0.0], [0.0, 0.0, 0.98, 0.0, 0.0, 0.0, 0.01, 0.0], [0.01, 0.81, 0.01, 0.01, 0.03, 0.03, 0.05, 0.04], [0.88, 0.04, 0.01, 0.01, 0.02, 0.01, 0.02, 0.02]]}],\n",
       "                        {\"annotations\": [{\"font\": {\"color\": \"#000000\"}, \"showarrow\": false, \"text\": \"0.01\", \"x\": \"animals\", \"xref\": \"x\", \"y\": \"travel\", \"yref\": \"y\"}, {\"font\": {\"color\": \"#000000\"}, \"showarrow\": false, \"text\": \"0.02\", \"x\": \"art\", \"xref\": \"x\", \"y\": \"travel\", \"yref\": \"y\"}, {\"font\": {\"color\": \"#000000\"}, \"showarrow\": false, \"text\": \"0.0\", \"x\": \"automobiles\", \"xref\": \"x\", \"y\": \"travel\", \"yref\": \"y\"}, {\"font\": {\"color\": \"#000000\"}, \"showarrow\": false, \"text\": \"0.01\", \"x\": \"fashion\", \"xref\": \"x\", \"y\": \"travel\", \"yref\": \"y\"}, {\"font\": {\"color\": \"#000000\"}, \"showarrow\": false, \"text\": \"0.0\", \"x\": \"food\", \"xref\": \"x\", \"y\": \"travel\", \"yref\": \"y\"}, {\"font\": {\"color\": \"#000000\"}, \"showarrow\": false, \"text\": \"0.11\", \"x\": \"houses\", \"xref\": \"x\", \"y\": \"travel\", \"yref\": \"y\"}, {\"font\": {\"color\": \"#000000\"}, \"showarrow\": false, \"text\": \"0.01\", \"x\": \"technology\", \"xref\": \"x\", \"y\": \"travel\", \"yref\": \"y\"}, {\"font\": {\"color\": \"#FFFFFF\"}, \"showarrow\": false, \"text\": \"0.84\", \"x\": \"travel\", \"xref\": \"x\", \"y\": \"travel\", \"yref\": \"y\"}, {\"font\": {\"color\": \"#000000\"}, \"showarrow\": false, \"text\": \"0.01\", \"x\": \"animals\", \"xref\": \"x\", \"y\": \"technology\", \"yref\": \"y\"}, {\"font\": {\"color\": \"#000000\"}, \"showarrow\": false, \"text\": \"0.04\", \"x\": \"art\", \"xref\": \"x\", \"y\": \"technology\", \"yref\": \"y\"}, {\"font\": {\"color\": \"#000000\"}, \"showarrow\": false, \"text\": \"0.03\", \"x\": \"automobiles\", \"xref\": \"x\", \"y\": \"technology\", \"yref\": \"y\"}, {\"font\": {\"color\": \"#000000\"}, \"showarrow\": false, \"text\": \"0.01\", \"x\": \"fashion\", \"xref\": \"x\", \"y\": \"technology\", \"yref\": \"y\"}, {\"font\": {\"color\": \"#000000\"}, \"showarrow\": false, \"text\": \"0.0\", \"x\": \"food\", \"xref\": \"x\", \"y\": \"technology\", \"yref\": \"y\"}, {\"font\": {\"color\": \"#000000\"}, \"showarrow\": false, \"text\": \"0.03\", \"x\": \"houses\", \"xref\": \"x\", \"y\": \"technology\", \"yref\": \"y\"}, {\"font\": {\"color\": \"#FFFFFF\"}, \"showarrow\": false, \"text\": \"0.88\", \"x\": \"technology\", \"xref\": \"x\", \"y\": \"technology\", \"yref\": \"y\"}, {\"font\": {\"color\": \"#000000\"}, \"showarrow\": false, \"text\": \"0.01\", \"x\": \"travel\", \"xref\": \"x\", \"y\": \"technology\", \"yref\": \"y\"}, {\"font\": {\"color\": \"#000000\"}, \"showarrow\": false, \"text\": \"0.0\", \"x\": \"animals\", \"xref\": \"x\", \"y\": \"houses\", \"yref\": \"y\"}, {\"font\": {\"color\": \"#000000\"}, \"showarrow\": false, \"text\": \"0.01\", \"x\": \"art\", \"xref\": \"x\", \"y\": \"houses\", \"yref\": \"y\"}, {\"font\": {\"color\": \"#000000\"}, \"showarrow\": false, \"text\": \"0.0\", \"x\": \"automobiles\", \"xref\": \"x\", \"y\": \"houses\", \"yref\": \"y\"}, {\"font\": {\"color\": \"#000000\"}, \"showarrow\": false, \"text\": \"0.0\", \"x\": \"fashion\", \"xref\": \"x\", \"y\": \"houses\", \"yref\": \"y\"}, {\"font\": {\"color\": \"#000000\"}, \"showarrow\": false, \"text\": \"0.0\", \"x\": \"food\", \"xref\": \"x\", \"y\": \"houses\", \"yref\": \"y\"}, {\"font\": {\"color\": \"#FFFFFF\"}, \"showarrow\": false, \"text\": \"0.96\", \"x\": \"houses\", \"xref\": \"x\", \"y\": \"houses\", \"yref\": \"y\"}, {\"font\": {\"color\": \"#000000\"}, \"showarrow\": false, \"text\": \"0.01\", \"x\": \"technology\", \"xref\": \"x\", \"y\": \"houses\", \"yref\": \"y\"}, {\"font\": {\"color\": \"#000000\"}, \"showarrow\": false, \"text\": \"0.02\", \"x\": \"travel\", \"xref\": \"x\", \"y\": \"houses\", \"yref\": \"y\"}, {\"font\": {\"color\": \"#000000\"}, \"showarrow\": false, \"text\": \"0.0\", \"x\": \"animals\", \"xref\": \"x\", \"y\": \"food\", \"yref\": \"y\"}, {\"font\": {\"color\": \"#000000\"}, \"showarrow\": false, \"text\": \"0.02\", \"x\": \"art\", \"xref\": \"x\", \"y\": \"food\", \"yref\": \"y\"}, {\"font\": {\"color\": \"#000000\"}, \"showarrow\": false, \"text\": \"0.0\", \"x\": \"automobiles\", \"xref\": \"x\", \"y\": \"food\", \"yref\": \"y\"}, {\"font\": {\"color\": \"#000000\"}, \"showarrow\": false, \"text\": \"0.0\", \"x\": \"fashion\", \"xref\": \"x\", \"y\": \"food\", \"yref\": \"y\"}, {\"font\": {\"color\": \"#FFFFFF\"}, \"showarrow\": false, \"text\": \"0.97\", \"x\": \"food\", \"xref\": \"x\", \"y\": \"food\", \"yref\": \"y\"}, {\"font\": {\"color\": \"#000000\"}, \"showarrow\": false, \"text\": \"0.0\", \"x\": \"houses\", \"xref\": \"x\", \"y\": \"food\", \"yref\": \"y\"}, {\"font\": {\"color\": \"#000000\"}, \"showarrow\": false, \"text\": \"0.01\", \"x\": \"technology\", \"xref\": \"x\", \"y\": \"food\", \"yref\": \"y\"}, {\"font\": {\"color\": \"#000000\"}, \"showarrow\": false, \"text\": \"0.0\", \"x\": \"travel\", \"xref\": \"x\", \"y\": \"food\", \"yref\": \"y\"}, {\"font\": {\"color\": \"#000000\"}, \"showarrow\": false, \"text\": \"0.0\", \"x\": \"animals\", \"xref\": \"x\", \"y\": \"fashion\", \"yref\": \"y\"}, {\"font\": {\"color\": \"#000000\"}, \"showarrow\": false, \"text\": \"0.01\", \"x\": \"art\", \"xref\": \"x\", \"y\": \"fashion\", \"yref\": \"y\"}, {\"font\": {\"color\": \"#000000\"}, \"showarrow\": false, \"text\": \"0.0\", \"x\": \"automobiles\", \"xref\": \"x\", \"y\": \"fashion\", \"yref\": \"y\"}, {\"font\": {\"color\": \"#FFFFFF\"}, \"showarrow\": false, \"text\": \"0.97\", \"x\": \"fashion\", \"xref\": \"x\", \"y\": \"fashion\", \"yref\": \"y\"}, {\"font\": {\"color\": \"#000000\"}, \"showarrow\": false, \"text\": \"0.0\", \"x\": \"food\", \"xref\": \"x\", \"y\": \"fashion\", \"yref\": \"y\"}, {\"font\": {\"color\": \"#000000\"}, \"showarrow\": false, \"text\": \"0.0\", \"x\": \"houses\", \"xref\": \"x\", \"y\": \"fashion\", \"yref\": \"y\"}, {\"font\": {\"color\": \"#000000\"}, \"showarrow\": false, \"text\": \"0.01\", \"x\": \"technology\", \"xref\": \"x\", \"y\": \"fashion\", \"yref\": \"y\"}, {\"font\": {\"color\": \"#000000\"}, \"showarrow\": false, \"text\": \"0.0\", \"x\": \"travel\", \"xref\": \"x\", \"y\": \"fashion\", \"yref\": \"y\"}, {\"font\": {\"color\": \"#000000\"}, \"showarrow\": false, \"text\": \"0.0\", \"x\": \"animals\", \"xref\": \"x\", \"y\": \"automobiles\", \"yref\": \"y\"}, {\"font\": {\"color\": \"#000000\"}, \"showarrow\": false, \"text\": \"0.0\", \"x\": \"art\", \"xref\": \"x\", \"y\": \"automobiles\", \"yref\": \"y\"}, {\"font\": {\"color\": \"#FFFFFF\"}, \"showarrow\": false, \"text\": \"0.98\", \"x\": \"automobiles\", \"xref\": \"x\", \"y\": \"automobiles\", \"yref\": \"y\"}, {\"font\": {\"color\": \"#000000\"}, \"showarrow\": false, \"text\": \"0.0\", \"x\": \"fashion\", \"xref\": \"x\", \"y\": \"automobiles\", \"yref\": \"y\"}, {\"font\": {\"color\": \"#000000\"}, \"showarrow\": false, \"text\": \"0.0\", \"x\": \"food\", \"xref\": \"x\", \"y\": \"automobiles\", \"yref\": \"y\"}, {\"font\": {\"color\": \"#000000\"}, \"showarrow\": false, \"text\": \"0.0\", \"x\": \"houses\", \"xref\": \"x\", \"y\": \"automobiles\", \"yref\": \"y\"}, {\"font\": {\"color\": \"#000000\"}, \"showarrow\": false, \"text\": \"0.01\", \"x\": \"technology\", \"xref\": \"x\", \"y\": \"automobiles\", \"yref\": \"y\"}, {\"font\": {\"color\": \"#000000\"}, \"showarrow\": false, \"text\": \"0.0\", \"x\": \"travel\", \"xref\": \"x\", \"y\": \"automobiles\", \"yref\": \"y\"}, {\"font\": {\"color\": \"#000000\"}, \"showarrow\": false, \"text\": \"0.01\", \"x\": \"animals\", \"xref\": \"x\", \"y\": \"art\", \"yref\": \"y\"}, {\"font\": {\"color\": \"#FFFFFF\"}, \"showarrow\": false, \"text\": \"0.81\", \"x\": \"art\", \"xref\": \"x\", \"y\": \"art\", \"yref\": \"y\"}, {\"font\": {\"color\": \"#000000\"}, \"showarrow\": false, \"text\": \"0.01\", \"x\": \"automobiles\", \"xref\": \"x\", \"y\": \"art\", \"yref\": \"y\"}, {\"font\": {\"color\": \"#000000\"}, \"showarrow\": false, \"text\": \"0.01\", \"x\": \"fashion\", \"xref\": \"x\", \"y\": \"art\", \"yref\": \"y\"}, {\"font\": {\"color\": \"#000000\"}, \"showarrow\": false, \"text\": \"0.03\", \"x\": \"food\", \"xref\": \"x\", \"y\": \"art\", \"yref\": \"y\"}, {\"font\": {\"color\": \"#000000\"}, \"showarrow\": false, \"text\": \"0.03\", \"x\": \"houses\", \"xref\": \"x\", \"y\": \"art\", \"yref\": \"y\"}, {\"font\": {\"color\": \"#000000\"}, \"showarrow\": false, \"text\": \"0.05\", \"x\": \"technology\", \"xref\": \"x\", \"y\": \"art\", \"yref\": \"y\"}, {\"font\": {\"color\": \"#000000\"}, \"showarrow\": false, \"text\": \"0.04\", \"x\": \"travel\", \"xref\": \"x\", \"y\": \"art\", \"yref\": \"y\"}, {\"font\": {\"color\": \"#FFFFFF\"}, \"showarrow\": false, \"text\": \"0.88\", \"x\": \"animals\", \"xref\": \"x\", \"y\": \"animals\", \"yref\": \"y\"}, {\"font\": {\"color\": \"#000000\"}, \"showarrow\": false, \"text\": \"0.04\", \"x\": \"art\", \"xref\": \"x\", \"y\": \"animals\", \"yref\": \"y\"}, {\"font\": {\"color\": \"#000000\"}, \"showarrow\": false, \"text\": \"0.01\", \"x\": \"automobiles\", \"xref\": \"x\", \"y\": \"animals\", \"yref\": \"y\"}, {\"font\": {\"color\": \"#000000\"}, \"showarrow\": false, \"text\": \"0.01\", \"x\": \"fashion\", \"xref\": \"x\", \"y\": \"animals\", \"yref\": \"y\"}, {\"font\": {\"color\": \"#000000\"}, \"showarrow\": false, \"text\": \"0.02\", \"x\": \"food\", \"xref\": \"x\", \"y\": \"animals\", \"yref\": \"y\"}, {\"font\": {\"color\": \"#000000\"}, \"showarrow\": false, \"text\": \"0.01\", \"x\": \"houses\", \"xref\": \"x\", \"y\": \"animals\", \"yref\": \"y\"}, {\"font\": {\"color\": \"#000000\"}, \"showarrow\": false, \"text\": \"0.02\", \"x\": \"technology\", \"xref\": \"x\", \"y\": \"animals\", \"yref\": \"y\"}, {\"font\": {\"color\": \"#000000\"}, \"showarrow\": false, \"text\": \"0.02\", \"x\": \"travel\", \"xref\": \"x\", \"y\": \"animals\", \"yref\": \"y\"}], \"height\": 800, \"template\": {\"data\": {\"scatter\": [{\"type\": \"scatter\"}]}}, \"title\": {\"text\": \"10-Fold Cross Validation Model\", \"x\": 0.47, \"xanchor\": \"center\", \"y\": 0.95, \"yanchor\": \"top\"}, \"width\": 800, \"xaxis\": {\"dtick\": 1, \"gridcolor\": \"rgb(0, 0, 0)\", \"showgrid\": false, \"side\": \"bottom\", \"ticks\": \"\", \"title\": {\"text\": \"Predicted Labels\"}}, \"yaxis\": {\"dtick\": 1, \"showgrid\": false, \"ticks\": \"\", \"ticksuffix\": \"  \", \"title\": {\"text\": \"True Labels\"}}},\n",
       "                        {\"responsive\": true}\n",
       "                    ).then(function(){\n",
       "                            \n",
       "var gd = document.getElementById('ee33189c-8399-406b-94b5-e44d417e0211');\n",
       "var x = new MutationObserver(function (mutations, observer) {{\n",
       "        var display = window.getComputedStyle(gd).display;\n",
       "        if (!display || display === 'none') {{\n",
       "            console.log([gd, 'removed!']);\n",
       "            Plotly.purge(gd);\n",
       "            observer.disconnect();\n",
       "        }}\n",
       "}});\n",
       "\n",
       "// Listen for the removal of the full notebook cells\n",
       "var notebookContainer = gd.closest('#notebook-container');\n",
       "if (notebookContainer) {{\n",
       "    x.observe(notebookContainer, {childList: true});\n",
       "}}\n",
       "\n",
       "// Listen for the clearing of the current output cell\n",
       "var outputEl = gd.closest('.output');\n",
       "if (outputEl) {{\n",
       "    x.observe(outputEl, {childList: true});\n",
       "}}\n",
       "\n",
       "                        })\n",
       "                };\n",
       "                });\n",
       "            </script>\n",
       "        </div>"
      ]
     },
     "metadata": {},
     "output_type": "display_data"
    }
   ],
   "source": [
    "cfm_n = np.flipud(confusionM)\n",
    "cfm_n = cfm_n.astype('float') / cfm_n.sum(axis=1)[:, np.newaxis]\n",
    "\n",
    "z = cfm_n\n",
    "z = np.round(z, 2)\n",
    "print(np.round(z, 2))\n",
    "x = ['animals', 'art', 'automobiles', 'fashion', 'food', 'houses', 'technology', 'travel']\n",
    "y = ['travel', 'technology', 'houses', 'food', 'fashion', 'automobiles', 'art', 'animals']\n",
    "fig = ff.create_annotated_heatmap(z, x = x, y = y, annotation_text = z, colorscale = 'deep')\n",
    "fig.update_layout(width = 800, height = 800, xaxis_showgrid = False, yaxis_showgrid = False, template = 'none')\n",
    "fig.update_layout(title = {'text': \"10-Fold Cross Validation Model\",\n",
    "                           'y':0.95,\n",
    "                           'x':0.47,\n",
    "                           'xanchor': 'center',\n",
    "                           'yanchor': 'top'}, \n",
    "                  xaxis_title = 'Predicted Labels',\n",
    "                  yaxis_title = 'True Labels')\n",
    "fig['layout']['xaxis']['side'] = 'bottom'\n",
    "fig.show()"
   ]
  },
  {
   "cell_type": "code",
   "execution_count": null,
   "metadata": {},
   "outputs": [],
   "source": []
  }
 ],
 "metadata": {
  "kernelspec": {
   "display_name": "Python 3",
   "language": "python",
   "name": "python3"
  },
  "language_info": {
   "codemirror_mode": {
    "name": "ipython",
    "version": 3
   },
   "file_extension": ".py",
   "mimetype": "text/x-python",
   "name": "python",
   "nbconvert_exporter": "python",
   "pygments_lexer": "ipython3",
   "version": "3.7.6"
  }
 },
 "nbformat": 4,
 "nbformat_minor": 4
}
