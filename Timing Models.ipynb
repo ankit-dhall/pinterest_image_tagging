{
 "cells": [
  {
   "cell_type": "code",
   "execution_count": 9,
   "metadata": {},
   "outputs": [],
   "source": [
    "import os\n",
    "import numpy as np\n",
    "import keras\n",
    "from keras.models import load_model\n",
    "from keras.applications.mobilenet import preprocess_input\n",
    "from keras.preprocessing import image\n",
    "import pandas as pd\n",
    "import cv2\n",
    "import time"
   ]
  },
  {
   "cell_type": "code",
   "execution_count": 2,
   "metadata": {},
   "outputs": [],
   "source": [
    "labels_to_names = {0 : 'animals', 1 : 'art', 2 : 'automobiles', 3 : 'fashion', 4 : 'food', 5 : 'houses',\n",
    "                   6 : 'technology', 7 : 'travel'}"
   ]
  },
  {
   "cell_type": "code",
   "execution_count": 3,
   "metadata": {},
   "outputs": [],
   "source": [
    "from keras.applications.mobilenet import preprocess_input"
   ]
  },
  {
   "cell_type": "code",
   "execution_count": 7,
   "metadata": {},
   "outputs": [
    {
     "name": "stdout",
     "output_type": "stream",
     "text": [
      "Confusion Matrix: \n",
      "\n",
      "             animals art automobiles fashion food houses technology travel\n",
      "animals          91   4           0       0    0      4          0      1\n",
      "art               2  84           1       2    2      5          1      3\n",
      "automobiles       0   0         100       0    0      0          0      0\n",
      "fashion           0   1           0      99    0      0          0      0\n",
      "food              0   3           0       0   96      0          1      0\n",
      "houses            0   1           1       0    0     96          1      1\n",
      "technology        0   5           6       0    1      4         84      0\n",
      "travel            1   1           0       0    1     11          0     86\n",
      "\n",
      "Average Model Accuracy on Test Set = 92.0%\n",
      "\n",
      "Total Time Taken = 19.765 seconds\n",
      "Average Prediction Time per Image = 0.025 seconds\n"
     ]
    }
   ],
   "source": [
    "model = load_model('./snapshots/MobileNet/model_mobilenet_lr0.0001_bs32_12.hdf5')\n",
    "\n",
    "df = pd.DataFrame(columns = ['animals', 'art', 'automobiles', 'fashion', 'food', 'houses', 'technology', 'travel'], \n",
    "                  index = ['animals', 'art', 'automobiles', 'fashion', 'food', 'houses', 'technology', 'travel'])\n",
    "df[:] = 0\n",
    "total_count = 0\n",
    "correct_count = 0\n",
    "y_predicted = list()\n",
    "y_actual = list()\n",
    "\n",
    "start_time = time.time()\n",
    "\n",
    "for i in os.listdir('./dataset/test_set'):\n",
    "    true_class = i\n",
    "    for j in os.listdir('./dataset/test_set/' + i):\n",
    "        test_image = image.load_img('./dataset/test_set/' + i + '/' + j, \n",
    "                                    target_size = (160,160))\n",
    "        test_image = image.img_to_array(test_image)\n",
    "        test_image = preprocess_input(test_image)\n",
    "        test_image = np.expand_dims(test_image, axis = 0)\n",
    "        result = model.predict(test_image)\n",
    "        \n",
    "        prediction = np.argmax(result)\n",
    "        \n",
    "        prediction = labels_to_names[prediction]\n",
    "        y_actual.append(true_class)\n",
    "        y_predicted.append(prediction)\n",
    "        df.loc[true_class, prediction] += 1\n",
    "        total_count += 1\n",
    "        if true_class == prediction:\n",
    "            correct_count += 1\n",
    "\n",
    "print(\"Confusion Matrix: \")\n",
    "\n",
    "print(\"\\n\", df)\n",
    "\n",
    "avg_accuracy = round((correct_count * 100) / (total_count), 3)\n",
    "print(\"\\nAverage Model Accuracy on Test Set = \" + str(avg_accuracy) + \"%\")\n",
    "\n",
    "time_taken = round(time.time() - start_time, 3)\n",
    "print(\"\\nTotal Time Taken = %s seconds\" %(time_taken))\n",
    "\n",
    "print(\"Average Prediction Time per Image = %s seconds\" %(round(time_taken / 800.0, 3)))"
   ]
  },
  {
   "cell_type": "code",
   "execution_count": 17,
   "metadata": {},
   "outputs": [],
   "source": [
    "from keras.applications.vgg16 import preprocess_input"
   ]
  },
  {
   "cell_type": "code",
   "execution_count": 18,
   "metadata": {},
   "outputs": [
    {
     "name": "stdout",
     "output_type": "stream",
     "text": [
      "Confusion Matrix: \n",
      "\n",
      "             animals art automobiles fashion food houses technology travel\n",
      "animals          95   2           0       0    0      1          0      2\n",
      "art               5  78           0       1    1      6          5      4\n",
      "automobiles       0   1          96       0    0      0          2      1\n",
      "fashion           0   3           0      97    0      0          0      0\n",
      "food              8   2           0       0   87      0          3      0\n",
      "houses            0   2           1       0    0     97          0      0\n",
      "technology        2   4           2       0    1      4         87      0\n",
      "travel            0   0           0       0    0      5          0     95\n",
      "\n",
      "Average Model Accuracy on Test Set = 91.5%\n",
      "\n",
      "Total Time Taken = 61.44 seconds\n",
      "Average Prediction Time per Image = 0.077 seconds\n"
     ]
    }
   ],
   "source": [
    ".model = load_model('./snapshots/VGG/model_vgg_lr0.001_bs16_20.hdf5')\n",
    "\n",
    "df = pd.DataFrame(columns = ['animals', 'art', 'automobiles', 'fashion', 'food', 'houses', 'technology', 'travel'], \n",
    "                  index = ['animals', 'art', 'automobiles', 'fashion', 'food', 'houses', 'technology', 'travel'])\n",
    "df[:] = 0\n",
    "total_count = 0\n",
    "correct_count = 0\n",
    "y_predicted = list()\n",
    "y_actual = list()\n",
    "\n",
    "start_time = time.time()\n",
    "\n",
    "for i in os.listdir('./dataset/test_set'):\n",
    "    true_class = i\n",
    "    for j in os.listdir('./dataset/test_set/' + i):\n",
    "        test_image = image.load_img('./dataset/test_set/' + i + '/' + j, \n",
    "                                    target_size = (160,160))\n",
    "        test_image = image.img_to_array(test_image)\n",
    "        test_image = preprocess_input(test_image)\n",
    "        test_image = np.expand_dims(test_image, axis = 0)\n",
    "        result = model.predict(test_image)\n",
    "        \n",
    "        prediction = np.argmax(result)\n",
    "        \n",
    "        prediction = labels_to_names[prediction]\n",
    "        y_actual.append(true_class)\n",
    "        y_predicted.append(prediction)\n",
    "        df.loc[true_class, prediction] += 1\n",
    "        total_count += 1\n",
    "        if true_class == prediction:\n",
    "            correct_count += 1\n",
    "\n",
    "print(\"Confusion Matrix: \")\n",
    "\n",
    "print(\"\\n\", df)\n",
    "\n",
    "avg_accuracy = round((correct_count * 100) / (total_count), 3)\n",
    "print(\"\\nAverage Model Accuracy on Test Set = \" + str(avg_accuracy) + \"%\")\n",
    "\n",
    "time_taken = round(time.time() - start_time, 3)\n",
    "print(\"\\nTotal Time Taken = %s seconds\" %(time_taken))\n",
    "\n",
    "print(\"Average Prediction Time per Image = %s seconds\" %(round(time_taken / 800.0, 3)))"
   ]
  },
  {
   "cell_type": "code",
   "execution_count": 24,
   "metadata": {},
   "outputs": [],
   "source": [
    "from keras.applications.resnet50 import preprocess_input"
   ]
  },
  {
   "cell_type": "code",
   "execution_count": 25,
   "metadata": {},
   "outputs": [
    {
     "name": "stdout",
     "output_type": "stream",
     "text": [
      "Confusion Matrix: \n",
      "\n",
      "             animals art automobiles fashion food houses technology travel\n",
      "animals          92   1           0       1    0      0          0      6\n",
      "art               1  76           0       3    2      5          4      9\n",
      "automobiles       0   0         100       0    0      0          0      0\n",
      "fashion           0   0           0      98    0      0          2      0\n",
      "food              0   8           0       1   90      0          1      0\n",
      "houses            0   0           1       0    0     96          1      2\n",
      "technology        0   5           5       1    0      2         86      1\n",
      "travel            1   0           0       0    0      6          0     93\n",
      "\n",
      "Average Model Accuracy on Test Set = 91.375%\n",
      "\n",
      "Total Time Taken = 77.934 seconds\n",
      "Average Prediction Time per Image = 0.097 seconds\n"
     ]
    }
   ],
   "source": [
    "model = load_model('./snapshots/ResNet/model_resnet_lr0.001_bs16_14.hdf5')\n",
    "\n",
    "df = pd.DataFrame(columns = ['animals', 'art', 'automobiles', 'fashion', 'food', 'houses', 'technology', 'travel'], \n",
    "                  index = ['animals', 'art', 'automobiles', 'fashion', 'food', 'houses', 'technology', 'travel'])\n",
    "df[:] = 0\n",
    "total_count = 0\n",
    "correct_count = 0\n",
    "y_predicted = list()\n",
    "y_actual = list()\n",
    "\n",
    "start_time = time.time()\n",
    "\n",
    "for i in os.listdir('./dataset/test_set'):\n",
    "    true_class = i\n",
    "    for j in os.listdir('./dataset/test_set/' + i):\n",
    "        test_image = image.load_img('./dataset/test_set/' + i + '/' + j, \n",
    "                                    target_size = (160,160))\n",
    "        test_image = image.img_to_array(test_image)\n",
    "        test_image = preprocess_input(test_image)\n",
    "        test_image = np.expand_dims(test_image, axis = 0)\n",
    "        result = model.predict(test_image)\n",
    "        \n",
    "        prediction = np.argmax(result)\n",
    "        \n",
    "        prediction = labels_to_names[prediction]\n",
    "        y_actual.append(true_class)\n",
    "        y_predicted.append(prediction)\n",
    "        df.loc[true_class, prediction] += 1\n",
    "        total_count += 1\n",
    "        if true_class == prediction:\n",
    "            correct_count += 1\n",
    "\n",
    "print(\"Confusion Matrix: \")\n",
    "\n",
    "print(\"\\n\", df)\n",
    "\n",
    "avg_accuracy = round((correct_count * 100) / (total_count), 3)\n",
    "print(\"\\nAverage Model Accuracy on Test Set = \" + str(avg_accuracy) + \"%\")\n",
    "\n",
    "time_taken = round(time.time() - start_time, 3)\n",
    "print(\"\\nTotal Time Taken = %s seconds\" %(time_taken))\n",
    "\n",
    "print(\"Average Prediction Time per Image = %s seconds\" %(round(time_taken / 800.0, 3)))"
   ]
  },
  {
   "cell_type": "code",
   "execution_count": 27,
   "metadata": {},
   "outputs": [],
   "source": [
    "from keras.applications.inception_v3 import preprocess_input"
   ]
  },
  {
   "cell_type": "code",
   "execution_count": 28,
   "metadata": {},
   "outputs": [
    {
     "name": "stdout",
     "output_type": "stream",
     "text": [
      "Confusion Matrix: \n",
      "\n",
      "             animals art automobiles fashion food houses technology travel\n",
      "animals          52  24           1       4   10      0          5      4\n",
      "art               0  68           0       3    9      1          6     13\n",
      "automobiles       0   1          98       0    0      0          0      1\n",
      "fashion           0   4           0      95    0      0          1      0\n",
      "food              0   5           0       1   92      0          1      1\n",
      "houses            0   5           2       2    2     85          1      3\n",
      "technology        0  13           5       1    3      0         77      1\n",
      "travel            2   8           1       1    1      8          1     78\n",
      "\n",
      "Average Model Accuracy on Test Set = 80.625%\n",
      "\n",
      "Total Time Taken = 61.492 seconds\n",
      "Average Prediction Time per Image = 0.077 seconds\n"
     ]
    }
   ],
   "source": [
    ".model = load_model('./snapshots/Inception/model_inception_lr0.0001_bs16_12.hdf5')\n",
    "\n",
    "df = pd.DataFrame(columns = ['animals', 'art', 'automobiles', 'fashion', 'food', 'houses', 'technology', 'travel'], \n",
    "                  index = ['animals', 'art', 'automobiles', 'fashion', 'food', 'houses', 'technology', 'travel'])\n",
    "df[:] = 0\n",
    "total_count = 0\n",
    "correct_count = 0\n",
    "y_predicted = list()\n",
    "y_actual = list()\n",
    "\n",
    "start_time = time.time()\n",
    "\n",
    "for i in os.listdir('./dataset/test_set'):\n",
    "    true_class = i\n",
    "    for j in os.listdir('./dataset/test_set/' + i):\n",
    "        test_image = image.load_img('./dataset/test_set/' + i + '/' + j, \n",
    "                                    target_size = (160,160))\n",
    "        test_image = image.img_to_array(test_image)\n",
    "        test_image = preprocess_input(test_image)\n",
    "        test_image = np.expand_dims(test_image, axis = 0)\n",
    "        result = model.predict(test_image)\n",
    "        \n",
    "        prediction = np.argmax(result)\n",
    "        \n",
    "        prediction = labels_to_names[prediction]\n",
    "        y_actual.append(true_class)\n",
    "        y_predicted.append(prediction)\n",
    "        df.loc[true_class, prediction] += 1\n",
    "        total_count += 1\n",
    "        if true_class == prediction:\n",
    "            correct_count += 1\n",
    "\n",
    "print(\"Confusion Matrix: \")\n",
    "\n",
    "print(\"\\n\", df)\n",
    "\n",
    "avg_accuracy = round((correct_count * 100) / (total_count), 3)\n",
    "print(\"\\nAverage Model Accuracy on Test Set = \" + str(avg_accuracy) + \"%\")\n",
    "\n",
    "time_taken = round(time.time() - start_time, 3)\n",
    "print(\"\\nTotal Time Taken = %s seconds\" %(time_taken))\n",
    "\n",
    "print(\"Average Prediction Time per Image = %s seconds\" %(round(time_taken / 800.0, 3)))"
   ]
  },
  {
   "cell_type": "code",
   "execution_count": 12,
   "metadata": {},
   "outputs": [],
   "source": [
    "import seaborn as sns\n",
    "import matplotlib.pyplot as plt\n",
    "sns.set(style=\"whitegrid\")"
   ]
  },
  {
   "cell_type": "code",
   "execution_count": 13,
   "metadata": {},
   "outputs": [],
   "source": [
    "x = ['MobileNet', 'Vgg16', 'Resnet-50', 'InceptionV3']\n",
    "y = [0.025, 0.077, 0.097, 0.077]"
   ]
  },
  {
   "cell_type": "code",
   "execution_count": 27,
   "metadata": {},
   "outputs": [
    {
     "data": {
      "image/png": "[encoded data removed]",
      "text/plain": [
       "<Figure size 864x864 with 1 Axes>"
      ]
     },
     "metadata": {},
     "output_type": "display_data"
    }
   ],
   "source": [
    "plt.figure(figsize = (12, 12))\n",
    "ax = sns.barplot(x = x, y = y, palette = ['#2EE794', '#CCCCCC', '#D4D4D4', '#DFE0DF'])\n",
    "ax.set(xlabel = 'Transfer Learning Model', ylabel = 'Average Prediction Time Per Image')\n",
    "plt.show()"
   ]
  },
  {
   "cell_type": "code",
   "execution_count": null,
   "metadata": {},
   "outputs": [],
   "source": []
  }
 ],
 "metadata": {
  "kernelspec": {
   "display_name": "Python 3",
   "language": "python",
   "name": "python3"
  },
  "language_info": {
   "codemirror_mode": {
    "name": "ipython",
    "version": 3
   },
   "file_extension": ".py",
   "mimetype": "text/x-python",
   "name": "python",
   "nbconvert_exporter": "python",
   "pygments_lexer": "ipython3",
   "version": "3.7.6"
  }
 },
 "nbformat": 4,
 "nbformat_minor": 4
}
